{
 "cells": [
  {
   "cell_type": "code",
   "execution_count": 45,
   "metadata": {},
   "outputs": [],
   "source": [
    "import pandas as pd\n",
    "import numpy as np\n",
    "import seaborn as sns\n",
    "import matplotlib.pyplot as plt\n",
    "import statsmodels.api as sm\n",
    "import statsmodels.formula.api as smf\n",
    "import scipy.stats as sps\n",
    "import sklearn\n",
    "from sklearn.linear_model import LogisticRegression, LogisticRegressionCV\n",
    "from sklearn.ensemble import RandomForestClassifier\n",
    "from sklearn.pipeline import Pipeline\n",
    "from sklearn.preprocessing import StandardScaler\n",
    "from sklearn.metrics import precision_score, accuracy_score\n",
    "from sklearn.compose import ColumnTransformer, make_column_selector\n",
    "from sklearn.preprocessing import StandardScaler, FunctionTransformer, Binarizer, OneHotEncoder, PolynomialFeatures\n",
    "from sklearn.model_selection import train_test_split\n",
    "from sklearn.impute import SimpleImputer\n"
   ]
  },
  {
   "cell_type": "markdown",
   "metadata": {},
   "source": [
    "# Small Businesses and Loans"
   ]
  },
  {
   "cell_type": "markdown",
   "metadata": {},
   "source": [
    "The purpose of this project is to determine which variables affect whether a loan is paid off or not, and how much the variables affect the loan. \n",
    "\n",
    "Relevant literature: https://www.tandfonline.com/doi/full/10.1080/10691898.2018.1434342\n",
    "\n",
    "I will be using a majority class classifier, Logistic Regression, Lasso Regression, and Random Forest models to see which one can best predict which businesses can successfully pay off a loan using several variables.\n",
    "\n",
    "- MIS_Status - PIF means paid in full. CHGOFF means charged off or not paid in full. This variable will be quantified in such a way that PIF will be 1 and CHGOFF will be 0.\n",
    "\n",
    "- Recession - This variable will be 1 if a business applied for a loan during the 2008 recession. Zero otherwise.\n",
    "\n",
    "- estateBacked - This variable is 1 if a loan is backed by estate. All loans with greater than 240 months in its term are backed by estate. \n",
    "\n",
    "- PercentDisbursed - portion of the loan that is guaranteed by SBA. This variable was described as important and relevant in the literature.\n",
    "\n",
    "- Gross Disbursement - gross amount of money that is loaned out. Relevant to how big a business is. Small businesses don't get as much loan money as big businesses.\n",
    "\n",
    "- NewExist - New or existing businesses. 1 if the business is existing. 2 if the business is new. A business being new is defined as being 2 or less years old.\n",
    "\n",
    "I will be using regular Python code for the majority class classifier, logistic regression, and lasso regression. The random forest will be executed using pipelines."
   ]
  },
  {
   "cell_type": "markdown",
   "metadata": {},
   "source": [
    "## Data Prep and Exploration"
   ]
  },
  {
   "cell_type": "code",
   "execution_count": 2,
   "metadata": {},
   "outputs": [
    {
     "name": "stderr",
     "output_type": "stream",
     "text": [
      "C:\\Users\\zacki\\anaconda3\\lib\\site-packages\\IPython\\core\\interactiveshell.py:3146: DtypeWarning: Columns (9) have mixed types.Specify dtype option on import or set low_memory=False.\n",
      "  has_raised = await self.run_ast_nodes(code_ast.body, cell_name,\n"
     ]
    },
    {
     "data": {
      "text/plain": [
       "Index(['LoanNr_ChkDgt', 'Name', 'City', 'State', 'Zip', 'Bank', 'BankState',\n",
       "       'NAICS', 'ApprovalDate', 'ApprovalFY', 'Term', 'NoEmp', 'NewExist',\n",
       "       'CreateJob', 'RetainedJob', 'FranchiseCode', 'UrbanRural', 'RevLineCr',\n",
       "       'LowDoc', 'ChgOffDate', 'DisbursementDate', 'DisbursementGross',\n",
       "       'BalanceGross', 'MIS_Status', 'ChgOffPrinGr', 'GrAppv', 'SBA_Appv'],\n",
       "      dtype='object')"
      ]
     },
     "execution_count": 2,
     "metadata": {},
     "output_type": "execute_result"
    }
   ],
   "source": [
    "file = pd.read_csv('SBAnational.csv')\n",
    "rng = np.random.RandomState(20201024)\n",
    "file.columns"
   ]
  },
  {
   "cell_type": "code",
   "execution_count": 3,
   "metadata": {},
   "outputs": [
    {
     "data": {
      "text/plain": [
       "(899164, 27)"
      ]
     },
     "execution_count": 3,
     "metadata": {},
     "output_type": "execute_result"
    }
   ],
   "source": [
    "file.shape"
   ]
  },
  {
   "cell_type": "markdown",
   "metadata": {},
   "source": [
    "There are 899164 rows and 27 columns."
   ]
  },
  {
   "cell_type": "code",
   "execution_count": 4,
   "metadata": {},
   "outputs": [],
   "source": [
    "#Replace paid in full to 1 and not paid in full to 0.\n",
    "file['MIS_Status']=file['MIS_Status'].replace('P I F',1)\n",
    "file['MIS_Status']=file['MIS_Status'].replace('CHGOFF',0)"
   ]
  },
  {
   "cell_type": "code",
   "execution_count": 5,
   "metadata": {},
   "outputs": [],
   "source": [
    "#Convert dates to datetime\n",
    "file['DisbursementDate'] = pd.to_datetime(file['DisbursementDate'])\n",
    "file['ApprovalDate'] = pd.to_datetime(file['ApprovalDate'])"
   ]
  },
  {
   "cell_type": "code",
   "execution_count": 6,
   "metadata": {},
   "outputs": [
    {
     "data": {
      "text/plain": [
       "Index(['LoanNr_ChkDgt', 'Name', 'City', 'State', 'Zip', 'Bank', 'BankState',\n",
       "       'NAICS', 'ApprovalDate', 'ApprovalFY', 'Term', 'NoEmp', 'NewExist',\n",
       "       'CreateJob', 'RetainedJob', 'FranchiseCode', 'UrbanRural', 'RevLineCr',\n",
       "       'LowDoc', 'ChgOffDate', 'DisbursementDate', 'DisbursementGross',\n",
       "       'BalanceGross', 'MIS_Status', 'ChgOffPrinGr', 'GrAppv', 'SBA_Appv'],\n",
       "      dtype='object')"
      ]
     },
     "execution_count": 6,
     "metadata": {},
     "output_type": "execute_result"
    }
   ],
   "source": [
    "file.columns"
   ]
  },
  {
   "cell_type": "code",
   "execution_count": 7,
   "metadata": {},
   "outputs": [],
   "source": [
    "#Converting currency to floats\n",
    "file[file.columns[21]] = file[file.columns[21]].replace('[\\$,]', '', regex=True).astype(float)\n",
    "file[file.columns[22]] = file[file.columns[22]].replace('[\\$,]', '', regex=True).astype(float)\n",
    "file[file.columns[24]] = file[file.columns[24]].replace('[\\$,]', '', regex=True).astype(float)\n",
    "file[file.columns[25]] = file[file.columns[25]].replace('[\\$,]', '', regex=True).astype(float)\n",
    "file[file.columns[26]] = file[file.columns[26]].replace('[\\$,]', '', regex=True).astype(float)"
   ]
  },
  {
   "cell_type": "code",
   "execution_count": 8,
   "metadata": {},
   "outputs": [],
   "source": [
    "#Drop some na in specific columns\n",
    "file = file.dropna(subset=['NewExist','MIS_Status','DisbursementDate'])"
   ]
  },
  {
   "cell_type": "markdown",
   "metadata": {},
   "source": [
    "## Describing Variables"
   ]
  },
  {
   "cell_type": "markdown",
   "metadata": {},
   "source": [
    "### MIS_Status"
   ]
  },
  {
   "cell_type": "code",
   "execution_count": 9,
   "metadata": {},
   "outputs": [
    {
     "data": {
      "text/plain": [
       "1.0    0.82431\n",
       "0.0    0.17569\n",
       "Name: MIS_Status, dtype: float64"
      ]
     },
     "execution_count": 9,
     "metadata": {},
     "output_type": "execute_result"
    }
   ],
   "source": [
    "#Majority class classifier - guess the class with most obs in it for every classification\n",
    "file['MIS_Status'].value_counts()/file['MIS_Status'].count()"
   ]
  },
  {
   "cell_type": "markdown",
   "metadata": {},
   "source": [
    "Majority class classifier - 82 percent of the loan observations have been paid off."
   ]
  },
  {
   "cell_type": "markdown",
   "metadata": {},
   "source": [
    "The accuracy is 0.824. The precision is also 0.824. The recall is 1. The recall is 1 because there are no false negatives since every classification was a 1."
   ]
  },
  {
   "cell_type": "code",
   "execution_count": 10,
   "metadata": {},
   "outputs": [
    {
     "data": {
      "text/plain": [
       "1.0    737640\n",
       "0.0    157218\n",
       "Name: MIS_Status, dtype: int64"
      ]
     },
     "execution_count": 10,
     "metadata": {},
     "output_type": "execute_result"
    }
   ],
   "source": [
    "#Distribution of outcome variable\n",
    "file['MIS_Status'].value_counts()"
   ]
  },
  {
   "cell_type": "markdown",
   "metadata": {},
   "source": [
    "MIS_Status is a binary variable that describes whether or not a loan was paid in full. This variable is one if a loan is paid in full and a zero if the loan is not paid in full. This variable is the dependant variable.\n",
    "\n",
    "The distribution of this variable is that there are more observations where the loan is paid in full than observations where the loan is not paid in full. The dataset consists of around 82% paid in full observations and 18% not paid in full observations."
   ]
  },
  {
   "cell_type": "markdown",
   "metadata": {},
   "source": [
    "### Recession"
   ]
  },
  {
   "cell_type": "code",
   "execution_count": 11,
   "metadata": {},
   "outputs": [],
   "source": [
    "#See if disbursement date is within 2008 Recession. 1 if it is, 0 otherwise\n",
    "file['RecessBin'] = np.where((file['DisbursementDate']<'2009-06-30') & (file['DisbursementDate']> '2007-12-01'),1,0)\n",
    "file['RecessBin'] = file['RecessBin'].astype('float64')"
   ]
  },
  {
   "cell_type": "code",
   "execution_count": 12,
   "metadata": {},
   "outputs": [
    {
     "data": {
      "text/plain": [
       "0.0    844543\n",
       "1.0     50315\n",
       "Name: RecessBin, dtype: int64"
      ]
     },
     "execution_count": 12,
     "metadata": {},
     "output_type": "execute_result"
    }
   ],
   "source": [
    "#Number of observations in each category\n",
    "file['RecessBin'].value_counts()"
   ]
  },
  {
   "cell_type": "code",
   "execution_count": 13,
   "metadata": {},
   "outputs": [
    {
     "data": {
      "text/plain": [
       "0.0    0.943773\n",
       "1.0    0.056227\n",
       "Name: RecessBin, dtype: float64"
      ]
     },
     "execution_count": 13,
     "metadata": {},
     "output_type": "execute_result"
    }
   ],
   "source": [
    "#Percent of observations in each category\n",
    "file['RecessBin'].value_counts()/file['RecessBin'].count()"
   ]
  },
  {
   "cell_type": "markdown",
   "metadata": {},
   "source": [
    "RecessBin is a dummy variable I created that is 1 if the loan was active during the great recession and 0 otherwise. It makes sense that more businesses would lose money during the great recession, so including it in the analysis should help the model explain risk. MIS_Status's relationship to RecessBin is this: when RecessBin is 1, MIS_Status has a lower count. When RecessBin is 0, MIS_Status has a higher count.\n",
    "\n",
    "Judging from the percentage of observations in the 1 category, most observations were not recorded in the 2008 recession."
   ]
  },
  {
   "cell_type": "markdown",
   "metadata": {},
   "source": [
    "### Backed by Estate"
   ]
  },
  {
   "cell_type": "code",
   "execution_count": 14,
   "metadata": {},
   "outputs": [],
   "source": [
    "#A business is estate backed if its term is greater than 240 months. estateBacked =1 if backed by estate\n",
    "file['estateBacked'] = file['Term']>=240\n",
    "file['estateBacked'] = file['estateBacked'].astype('float64')"
   ]
  },
  {
   "cell_type": "code",
   "execution_count": 15,
   "metadata": {},
   "outputs": [
    {
     "data": {
      "text/plain": [
       "0.0    742805\n",
       "1.0    152053\n",
       "Name: estateBacked, dtype: int64"
      ]
     },
     "execution_count": 15,
     "metadata": {},
     "output_type": "execute_result"
    }
   ],
   "source": [
    "#Observation count of whether a loan was backed by estate\n",
    "file['estateBacked'].value_counts()"
   ]
  },
  {
   "cell_type": "code",
   "execution_count": 16,
   "metadata": {},
   "outputs": [
    {
     "data": {
      "text/plain": [
       "0.0    0.830081\n",
       "1.0    0.169919\n",
       "Name: estateBacked, dtype: float64"
      ]
     },
     "execution_count": 16,
     "metadata": {},
     "output_type": "execute_result"
    }
   ],
   "source": [
    "#Percentage of estate backed loans\n",
    "file['estateBacked'].value_counts()/file['estateBacked'].count()"
   ]
  },
  {
   "cell_type": "markdown",
   "metadata": {},
   "source": [
    "EstateBacked is another dummy variable I created that is 1 if the loan is backed with estate and 0 if the loan isn't backed by estate. A loan that is backed by estate has greater than 240 months in its term. A loan that is backed by estate is more likely to be paid in full since it has property that can be taken if the loan is not fully paid. \n",
    "\n",
    "According to the value counts of this variable, most loans were not estate backed. "
   ]
  },
  {
   "cell_type": "markdown",
   "metadata": {},
   "source": [
    "### Percent Disbursed"
   ]
  },
  {
   "cell_type": "code",
   "execution_count": 17,
   "metadata": {},
   "outputs": [],
   "source": [
    "#GrApprv - Gross Amount of Loan Approved by Bank\n",
    "#SBA_Appv - SBA’s Guaranteed Amount of Approved Loan\n",
    "file['percDisbursed'] = file['SBA_Appv']/file['GrAppv']"
   ]
  },
  {
   "cell_type": "code",
   "execution_count": 18,
   "metadata": {},
   "outputs": [
    {
     "data": {
      "text/plain": [
       "count    894858.000000\n",
       "mean          0.710011\n",
       "std           0.173649\n",
       "min           0.028140\n",
       "25%           0.500000\n",
       "50%           0.750000\n",
       "75%           0.850000\n",
       "max           1.000000\n",
       "Name: percDisbursed, dtype: float64"
      ]
     },
     "execution_count": 18,
     "metadata": {},
     "output_type": "execute_result"
    }
   ],
   "source": [
    "file['percDisbursed'].describe()"
   ]
  },
  {
   "cell_type": "code",
   "execution_count": 19,
   "metadata": {},
   "outputs": [
    {
     "data": {
      "text/plain": [
       "<AxesSubplot:xlabel='percDisbursed'>"
      ]
     },
     "execution_count": 19,
     "metadata": {},
     "output_type": "execute_result"
    },
    {
     "data": {
      "image/png": "[encoded data removed]",
      "text/plain": [
       "<Figure size 432x288 with 1 Axes>"
      ]
     },
     "metadata": {
      "needs_background": "light"
     },
     "output_type": "display_data"
    }
   ],
   "source": [
    "sns.boxplot(x=file['percDisbursed'])"
   ]
  },
  {
   "cell_type": "markdown",
   "metadata": {},
   "source": [
    "percDisbursed is the portion of the loan that is guaranteed by SBA. I chose to include this variable because it was included in the relevant literature and because according to the literature, paid in full loans usually have a higher SBA guaranteed percentage than charged off loans. This variable's relationship to MIS_Status is this: loans that are paid in full have a higher SBA guaranteed percentage.\n",
    "\n",
    "The distribution of percDisbursed is left skewed with a mean of 0.710. The 25th percentile is 0.5, the 50th percentile is 0.75, and the 75th percentile is 0.85. "
   ]
  },
  {
   "cell_type": "markdown",
   "metadata": {},
   "source": [
    "### Gross Disbursement"
   ]
  },
  {
   "cell_type": "code",
   "execution_count": 20,
   "metadata": {},
   "outputs": [
    {
     "data": {
      "text/plain": [
       "count    8.948580e+05\n",
       "mean     2.017989e+05\n",
       "std      2.878199e+05\n",
       "min      4.000000e+03\n",
       "25%      4.265300e+04\n",
       "50%      1.000000e+05\n",
       "75%      2.395000e+05\n",
       "max      1.144632e+07\n",
       "Name: DisbursementGross, dtype: float64"
      ]
     },
     "execution_count": 20,
     "metadata": {},
     "output_type": "execute_result"
    }
   ],
   "source": [
    "file['DisbursementGross'].describe()"
   ]
  },
  {
   "cell_type": "code",
   "execution_count": 21,
   "metadata": {},
   "outputs": [
    {
     "data": {
      "text/plain": [
       "<AxesSubplot:xlabel='DisbursementGross', ylabel='Count'>"
      ]
     },
     "execution_count": 21,
     "metadata": {},
     "output_type": "execute_result"
    },
    {
     "data": {
      "image/png": "[encoded data removed]",
      "text/plain": [
       "<Figure size 432x288 with 1 Axes>"
      ]
     },
     "metadata": {
      "needs_background": "light"
     },
     "output_type": "display_data"
    }
   ],
   "source": [
    "sns.histplot(x=file['DisbursementGross'])"
   ]
  },
  {
   "cell_type": "markdown",
   "metadata": {},
   "source": [
    "DisbursementGross is the gross amount of money that is loaned out. I chose to include this variable because larger sized loans usually go to established businesses that are looking to expand. These established businesses would have an easier time paying off loans since they are established and probably have a steady stream of income. DisbursementGross's relationship to MIS_Status is this: loans with a higher DisbursementGross usually have a higher likelihood of being paid in full. Loans with a lower DisbursementGross are more likely to be coming from a less established business and have less likelihood of being paid in full than more established businesses.\n",
    "\n",
    "The distribution of this variable is right skewed, as seen in the histplot. The mean is 201,000 dollars. The median is 100,000 dollars. The 25th percentile is 42,000 dollars. The 75th percentile is 240,000 dollars."
   ]
  },
  {
   "cell_type": "markdown",
   "metadata": {},
   "source": [
    "### New or Existing Businesses"
   ]
  },
  {
   "cell_type": "code",
   "execution_count": 22,
   "metadata": {},
   "outputs": [
    {
     "data": {
      "text/plain": [
       "1.0    641861\n",
       "2.0    251970\n",
       "0.0      1027\n",
       "Name: NewExist, dtype: int64"
      ]
     },
     "execution_count": 22,
     "metadata": {},
     "output_type": "execute_result"
    }
   ],
   "source": [
    "#Count of businesses that are new or existing\n",
    "file['NewExist'].value_counts()"
   ]
  },
  {
   "cell_type": "code",
   "execution_count": 23,
   "metadata": {},
   "outputs": [
    {
     "data": {
      "text/plain": [
       "1.0    0.717277\n",
       "2.0    0.281575\n",
       "0.0    0.001148\n",
       "Name: NewExist, dtype: float64"
      ]
     },
     "execution_count": 23,
     "metadata": {},
     "output_type": "execute_result"
    }
   ],
   "source": [
    "# Percentage of businesses that are new or existing.\n",
    "file['NewExist'].value_counts()/file['NewExist'].count()"
   ]
  },
  {
   "cell_type": "markdown",
   "metadata": {},
   "source": [
    "NewExist is a dummy variable that is 1 if the business the loan is going to is existing and 2 if the business the loan is going to is new. A new business is defined as being less than or equal to 2 years old. I chose this variable because established businesses would have a better chance of paying off their loan in full because those business has a track record of success and are trying to expand their business. Newer businesses would have a lower chance of paying off their loan in full because they are not established and might encounter obstacles they may not have anticipated. According to the literature, there is a relatively negligible difference for the default rates between new and existing businesses. The default rate for new businesses is 18.98% and the default rate for existing businesses is 17.36%. This is also the relationship to the MIS_Status variable.\n",
    "\n",
    "This variable had some zeroes in it that were not included in the documentation. I left them in because there weren't enough to make a difference and I had already dropped NA values in this column so these zeroes were probably not NAs.\n",
    "\n",
    "The distribution of this variable is that most of the observations are 1 for this variable, so most of the loans are going towards existing businesses. There is still a significant chunk of loans that are going to new businesses. Around 71% of loans are going towards existing businesses."
   ]
  },
  {
   "cell_type": "markdown",
   "metadata": {},
   "source": [
    "### Training and Testing sets\n",
    "Making training and testing sets from the dataset. Testing consists of 25% of the observations."
   ]
  },
  {
   "cell_type": "code",
   "execution_count": 24,
   "metadata": {},
   "outputs": [],
   "source": [
    "#Make training and testing masks\n",
    "test = file.sample(frac=0.25, random_state=rng)\n",
    "train_mask = pd.Series(True, index=file.index)\n",
    "train_mask[test.index] = False\n",
    "train = file[train_mask].copy()"
   ]
  },
  {
   "cell_type": "markdown",
   "metadata": {},
   "source": [
    "## Initial Logistic Model"
   ]
  },
  {
   "cell_type": "code",
   "execution_count": 25,
   "metadata": {},
   "outputs": [
    {
     "data": {
      "text/html": [
       "<table class=\"simpletable\">\n",
       "<caption>Generalized Linear Model Regression Results</caption>\n",
       "<tr>\n",
       "  <th>Dep. Variable:</th>      <td>MIS_Status</td>    <th>  No. Observations:  </th>   <td>671144</td>   \n",
       "</tr>\n",
       "<tr>\n",
       "  <th>Model:</th>                  <td>GLM</td>       <th>  Df Residuals:      </th>   <td>671138</td>   \n",
       "</tr>\n",
       "<tr>\n",
       "  <th>Model Family:</th>        <td>Binomial</td>     <th>  Df Model:          </th>   <td>     5</td>   \n",
       "</tr>\n",
       "<tr>\n",
       "  <th>Link Function:</th>         <td>logit</td>      <th>  Scale:             </th>  <td>  1.0000</td>  \n",
       "</tr>\n",
       "<tr>\n",
       "  <th>Method:</th>                <td>IRLS</td>       <th>  Log-Likelihood:    </th> <td>-2.8865e+05</td>\n",
       "</tr>\n",
       "<tr>\n",
       "  <th>Date:</th>            <td>Tue, 21 Dec 2021</td> <th>  Deviance:          </th> <td>5.7729e+05</td> \n",
       "</tr>\n",
       "<tr>\n",
       "  <th>Time:</th>                <td>17:23:57</td>     <th>  Pearson chi2:      </th>  <td>6.62e+05</td>  \n",
       "</tr>\n",
       "<tr>\n",
       "  <th>No. Iterations:</th>          <td>7</td>        <th>                     </th>      <td> </td>     \n",
       "</tr>\n",
       "<tr>\n",
       "  <th>Covariance Type:</th>     <td>nonrobust</td>    <th>                     </th>      <td> </td>     \n",
       "</tr>\n",
       "</table>\n",
       "<table class=\"simpletable\">\n",
       "<tr>\n",
       "          <td></td>             <th>coef</th>     <th>std err</th>      <th>z</th>      <th>P>|z|</th>  <th>[0.025</th>    <th>0.975]</th>  \n",
       "</tr>\n",
       "<tr>\n",
       "  <th>Intercept</th>         <td>    0.3447</td> <td>    0.016</td> <td>   22.002</td> <td> 0.000</td> <td>    0.314</td> <td>    0.375</td>\n",
       "</tr>\n",
       "<tr>\n",
       "  <th>RecessBin</th>         <td>   -0.6927</td> <td>    0.012</td> <td>  -58.150</td> <td> 0.000</td> <td>   -0.716</td> <td>   -0.669</td>\n",
       "</tr>\n",
       "<tr>\n",
       "  <th>estateBacked</th>      <td>    2.3231</td> <td>    0.024</td> <td>   95.305</td> <td> 0.000</td> <td>    2.275</td> <td>    2.371</td>\n",
       "</tr>\n",
       "<tr>\n",
       "  <th>percDisbursed</th>     <td>    1.6511</td> <td>    0.021</td> <td>   79.030</td> <td> 0.000</td> <td>    1.610</td> <td>    1.692</td>\n",
       "</tr>\n",
       "<tr>\n",
       "  <th>DisbursementGross</th> <td> 3.279e-07</td> <td> 1.67e-08</td> <td>   19.644</td> <td> 0.000</td> <td> 2.95e-07</td> <td> 3.61e-07</td>\n",
       "</tr>\n",
       "<tr>\n",
       "  <th>NewExist</th>          <td>   -0.0787</td> <td>    0.007</td> <td>  -10.785</td> <td> 0.000</td> <td>   -0.093</td> <td>   -0.064</td>\n",
       "</tr>\n",
       "</table>"
      ],
      "text/plain": [
       "<class 'statsmodels.iolib.summary.Summary'>\n",
       "\"\"\"\n",
       "                 Generalized Linear Model Regression Results                  \n",
       "==============================================================================\n",
       "Dep. Variable:             MIS_Status   No. Observations:               671144\n",
       "Model:                            GLM   Df Residuals:                   671138\n",
       "Model Family:                Binomial   Df Model:                            5\n",
       "Link Function:                  logit   Scale:                          1.0000\n",
       "Method:                          IRLS   Log-Likelihood:            -2.8865e+05\n",
       "Date:                Tue, 21 Dec 2021   Deviance:                   5.7729e+05\n",
       "Time:                        17:23:57   Pearson chi2:                 6.62e+05\n",
       "No. Iterations:                     7                                         \n",
       "Covariance Type:            nonrobust                                         \n",
       "=====================================================================================\n",
       "                        coef    std err          z      P>|z|      [0.025      0.975]\n",
       "-------------------------------------------------------------------------------------\n",
       "Intercept             0.3447      0.016     22.002      0.000       0.314       0.375\n",
       "RecessBin            -0.6927      0.012    -58.150      0.000      -0.716      -0.669\n",
       "estateBacked          2.3231      0.024     95.305      0.000       2.275       2.371\n",
       "percDisbursed         1.6511      0.021     79.030      0.000       1.610       1.692\n",
       "DisbursementGross  3.279e-07   1.67e-08     19.644      0.000    2.95e-07    3.61e-07\n",
       "NewExist             -0.0787      0.007    -10.785      0.000      -0.093      -0.064\n",
       "=====================================================================================\n",
       "\"\"\""
      ]
     },
     "execution_count": 25,
     "metadata": {},
     "output_type": "execute_result"
    }
   ],
   "source": [
    "#Variables to include: RecessBin, estateBacked, percDisbursed, DisbursementGross, NewExist\n",
    "mod = smf.glm('MIS_Status ~ RecessBin + estateBacked + percDisbursed + DisbursementGross + NewExist', train,\n",
    "              family=sm.families.Binomial())\n",
    "lg_res = mod.fit()\n",
    "lg_res.summary()"
   ]
  },
  {
   "cell_type": "code",
   "execution_count": 26,
   "metadata": {},
   "outputs": [
    {
     "name": "stderr",
     "output_type": "stream",
     "text": [
      "C:\\Users\\zacki\\anaconda3\\lib\\site-packages\\seaborn\\distributions.py:2551: FutureWarning: `distplot` is a deprecated function and will be removed in a future version. Please adapt your code to use either `displot` (a figure-level function with similar flexibility) or `histplot` (an axes-level function for histograms).\n",
      "  warnings.warn(msg, FutureWarning)\n"
     ]
    },
    {
     "data": {
      "text/plain": [
       "<AxesSubplot:xlabel='LRscore', ylabel='Density'>"
      ]
     },
     "execution_count": 26,
     "metadata": {},
     "output_type": "execute_result"
    },
    {
     "data": {
      "image/png": "[encoded data removed]",
      "text/plain": [
       "<Figure size 432x288 with 1 Axes>"
      ]
     },
     "metadata": {
      "needs_background": "light"
     },
     "output_type": "display_data"
    }
   ],
   "source": [
    "#Using train data\n",
    "train['LRscore'] = lg_res.predict(train)\n",
    "sns.distplot(train['LRscore'])"
   ]
  },
  {
   "cell_type": "code",
   "execution_count": 27,
   "metadata": {},
   "outputs": [
    {
     "name": "stderr",
     "output_type": "stream",
     "text": [
      "C:\\Users\\zacki\\anaconda3\\lib\\site-packages\\seaborn\\distributions.py:2551: FutureWarning: `distplot` is a deprecated function and will be removed in a future version. Please adapt your code to use either `displot` (a figure-level function with similar flexibility) or `histplot` (an axes-level function for histograms).\n",
      "  warnings.warn(msg, FutureWarning)\n"
     ]
    },
    {
     "data": {
      "text/plain": [
       "<AxesSubplot:xlabel='LRscore', ylabel='Density'>"
      ]
     },
     "execution_count": 27,
     "metadata": {},
     "output_type": "execute_result"
    },
    {
     "data": {
      "image/png": "[encoded data removed]",
      "text/plain": [
       "<Figure size 432x288 with 1 Axes>"
      ]
     },
     "metadata": {
      "needs_background": "light"
     },
     "output_type": "display_data"
    }
   ],
   "source": [
    "#Using testing data\n",
    "test['LRscore'] = lg_res.predict(test)\n",
    "sns.distplot(test['LRscore'])"
   ]
  },
  {
   "cell_type": "code",
   "execution_count": 28,
   "metadata": {},
   "outputs": [
    {
     "data": {
      "text/plain": [
       "0.8245036072843005"
      ]
     },
     "execution_count": 28,
     "metadata": {},
     "output_type": "execute_result"
    }
   ],
   "source": [
    "#Testing Accuracy\n",
    "test['LRscore'] = lg_res.predict(test)\n",
    "test['LRdecision'] = test['LRscore'] > 0.5\n",
    "(test['MIS_Status'] == test['LRdecision']).mean()"
   ]
  },
  {
   "cell_type": "markdown",
   "metadata": {},
   "source": [
    "The accuracy is 0.8244, 0.001 higher than the majority class classifier accuracy."
   ]
  },
  {
   "cell_type": "code",
   "execution_count": 29,
   "metadata": {},
   "outputs": [
    {
     "data": {
      "text/plain": [
       "LRdecision  MIS_Status\n",
       "False       1.0                1\n",
       "True        0.0            39260\n",
       "            1.0           184453\n",
       "Name: LRscore, dtype: int64"
      ]
     },
     "execution_count": 29,
     "metadata": {},
     "output_type": "execute_result"
    }
   ],
   "source": [
    "#Decision matrix of this model\n",
    "out_counts = test.groupby(['LRdecision','MIS_Status'])['LRscore'].count()\n",
    "out_counts"
   ]
  },
  {
   "cell_type": "markdown",
   "metadata": {},
   "source": [
    "This model guessed false once, and got it wrong. The rest of the time it guessed True and was the exact same as the majority class classifier."
   ]
  },
  {
   "cell_type": "markdown",
   "metadata": {},
   "source": [
    "## Lasso Regression"
   ]
  },
  {
   "cell_type": "code",
   "execution_count": 30,
   "metadata": {},
   "outputs": [],
   "source": [
    "#Columns to be included\n",
    "feat_cols = ['RecessBin', 'estateBacked', 'percDisbursed', 'DisbursementGross', 'NewExist']\n",
    "\n",
    "#Dependent var\n",
    "out_col = 'MIS_Status'\n",
    "\n",
    "#Training data\n",
    "train_x = train[feat_cols]\n",
    "train_y = train[out_col]\n",
    "\n",
    "#Testing data\n",
    "test_x = test[feat_cols]\n",
    "test_y = test[out_col]"
   ]
  },
  {
   "cell_type": "code",
   "execution_count": 31,
   "metadata": {},
   "outputs": [],
   "source": [
    "#Lasso regression\n",
    "lg_modLasso = LogisticRegressionCV(penalty='l1',solver = 'liblinear',max_iter = 500).fit(train_x,train_y)"
   ]
  },
  {
   "cell_type": "code",
   "execution_count": 32,
   "metadata": {},
   "outputs": [
    {
     "data": {
      "text/plain": [
       "0.8242433814501806"
      ]
     },
     "execution_count": 32,
     "metadata": {},
     "output_type": "execute_result"
    }
   ],
   "source": [
    "#Accuracy of training\n",
    "train_Lasso = lg_modLasso.predict(train_x)\n",
    "np.mean(train_Lasso == train_y)"
   ]
  },
  {
   "cell_type": "code",
   "execution_count": 34,
   "metadata": {},
   "outputs": [],
   "source": [
    "test['Lassoscore'] = lg_modLasso.predict(test_x)\n",
    "test['Lassodecision'] = test['Lassoscore']"
   ]
  },
  {
   "cell_type": "code",
   "execution_count": 36,
   "metadata": {},
   "outputs": [
    {
     "data": {
      "text/plain": [
       "0.8242433814501806"
      ]
     },
     "execution_count": 36,
     "metadata": {},
     "output_type": "execute_result"
    }
   ],
   "source": [
    "#Accuracy of training\n",
    "train_Lasso = lg_modLasso.predict(train_x)\n",
    "np.mean(train_Lasso == train_y)"
   ]
  },
  {
   "cell_type": "code",
   "execution_count": 35,
   "metadata": {},
   "outputs": [
    {
     "data": {
      "text/plain": [
       "0.8245080772772378"
      ]
     },
     "execution_count": 35,
     "metadata": {},
     "output_type": "execute_result"
    }
   ],
   "source": [
    "#Accuracy of test \n",
    "(test['MIS_Status'] == test['Lassodecision']).mean()"
   ]
  },
  {
   "cell_type": "code",
   "execution_count": 37,
   "metadata": {},
   "outputs": [
    {
     "data": {
      "text/plain": [
       "Lassodecision  MIS_Status\n",
       "1.0            0.0            39260\n",
       "               1.0           184454\n",
       "Name: Lassoscore, dtype: int64"
      ]
     },
     "execution_count": 37,
     "metadata": {},
     "output_type": "execute_result"
    }
   ],
   "source": [
    "#Decision matrix\n",
    "out_counts = test.groupby(['Lassodecision','MIS_Status'])['Lassoscore'].count()\n",
    "out_counts"
   ]
  },
  {
   "cell_type": "markdown",
   "metadata": {},
   "source": [
    "The majority class classifier accuracy was 0.82431. This lasso regression is the exact same as the majority class classifier, according to the decision matrix. "
   ]
  },
  {
   "cell_type": "markdown",
   "metadata": {},
   "source": [
    "## Random Forest"
   ]
  },
  {
   "cell_type": "code",
   "execution_count": 51,
   "metadata": {},
   "outputs": [],
   "source": [
    "#Create training and testing sets\n",
    "train_x = train.drop(columns=['ChgOffDate', 'ChgOffPrinGr', 'MIS_Status','BalanceGross'])\n",
    "test_x = test.drop(columns=['ChgOffDate', 'ChgOffPrinGr', 'MIS_Status', 'BalanceGross'])\n",
    "\n",
    "train_y = train['MIS_Status']\n",
    "test_y = test['MIS_Status']"
   ]
  },
  {
   "cell_type": "code",
   "execution_count": 39,
   "metadata": {},
   "outputs": [],
   "source": [
    "# Creates a new column to X dataframe. If an observation is 2, the dataframe's value will be 1.\n",
    "def f_is_new(X, *args):\n",
    "    res = X['NewExist'] == 2\n",
    "    return res.to_frame('IsNew')"
   ]
  },
  {
   "cell_type": "code",
   "execution_count": 41,
   "metadata": {},
   "outputs": [],
   "source": [
    "#Percent Disbursed in a function for pipeline\n",
    "def f_portion(X, *args):\n",
    "    res = X['SBA_Appv'] / X['GrAppv']\n",
    "    return res.to_frame('Portion')"
   ]
  },
  {
   "cell_type": "code",
   "execution_count": 43,
   "metadata": {},
   "outputs": [],
   "source": [
    "#A function of RecessBin for the pipeline\n",
    "def f_is_recession(X, *args):\n",
    "    start = pd.to_datetime('2007-12-01')\n",
    "    end = pd.to_datetime('2009-06-30')\n",
    "    db = X['DisbursementDate'] < start\n",
    "    due = X['DisbursementDate'].copy()\n",
    "    term = X['Term']\n",
    "    for t in term.unique():\n",
    "        tdo = pd.DateOffset(months=t)\n",
    "        due[term == t] += tdo\n",
    "    res = (due >= start) & (due <= end)\n",
    "    return res.to_frame('Recession')"
   ]
  },
  {
   "cell_type": "code",
   "execution_count": 46,
   "metadata": {},
   "outputs": [],
   "source": [
    "#Pipeline for preparing data\n",
    "rf_prep = ColumnTransformer([\n",
    "    ('IsNew', FunctionTransformer(f_is_new), ['NewExist']),\n",
    "    ('RealEstate', Binarizer(threshold=240), ['Term']),\n",
    "    ('Portion', FunctionTransformer(f_portion), ['GrAppv', 'SBA_Appv']),\n",
    "    ('Recession', FunctionTransformer(f_is_recession), ['DisbursementDate', 'Term']),\n",
    "    ('Numerics', SimpleImputer(), make_column_selector(dtype_include=np.number))\n",
    "])"
   ]
  },
  {
   "cell_type": "code",
   "execution_count": 47,
   "metadata": {},
   "outputs": [],
   "source": [
    "#Pipeline for preparing then using random forest classifier.\n",
    "rf_pipe = Pipeline([\n",
    "    ('prep', rf_prep),\n",
    "    ('classify', RandomForestClassifier(max_depth=10))\n",
    "])"
   ]
  },
  {
   "cell_type": "code",
   "execution_count": 53,
   "metadata": {},
   "outputs": [
    {
     "data": {
      "text/plain": [
       "Pipeline(steps=[('prep',\n",
       "                 ColumnTransformer(transformers=[('IsNew',\n",
       "                                                  FunctionTransformer(func=<function f_is_new at 0x0000026D1224B1F0>),\n",
       "                                                  ['NewExist']),\n",
       "                                                 ('RealEstate',\n",
       "                                                  Binarizer(threshold=240),\n",
       "                                                  ['Term']),\n",
       "                                                 ('Portion',\n",
       "                                                  FunctionTransformer(func=<function f_portion at 0x0000026D11D96280>),\n",
       "                                                  ['GrAppv', 'SBA_Appv']),\n",
       "                                                 ('Recession',\n",
       "                                                  FunctionTransformer(func=<function f_is_recession at 0x0000026D11D96A60>),\n",
       "                                                  ['DisbursementDate', 'Term']),\n",
       "                                                 ('Numerics', SimpleImputer(),\n",
       "                                                  <sklearn.compose._column_transformer.make_column_selector object at 0x0000026D10FD6E50>)])),\n",
       "                ('classify', RandomForestClassifier(max_depth=10))])"
      ]
     },
     "execution_count": 53,
     "metadata": {},
     "output_type": "execute_result"
    }
   ],
   "source": [
    "#Fitting the model\n",
    "rf_pipe.fit(train_x, train_y)"
   ]
  },
  {
   "cell_type": "code",
   "execution_count": 54,
   "metadata": {},
   "outputs": [
    {
     "data": {
      "text/plain": [
       "0.9228183519483151"
      ]
     },
     "execution_count": 54,
     "metadata": {},
     "output_type": "execute_result"
    }
   ],
   "source": [
    "#Training accuracy\n",
    "accuracy_score(train_y, rf_pipe.predict(train_x))"
   ]
  },
  {
   "cell_type": "code",
   "execution_count": 56,
   "metadata": {},
   "outputs": [
    {
     "data": {
      "text/plain": [
       "0.9221684829737969"
      ]
     },
     "execution_count": 56,
     "metadata": {},
     "output_type": "execute_result"
    }
   ],
   "source": [
    "#Testing accuracy\n",
    "accuracy_score(test_y, rf_test_out)"
   ]
  },
  {
   "cell_type": "markdown",
   "metadata": {},
   "source": [
    "The testing accuracy of this random forest is 0.922. The testing accuracy of the majority class classifier is 0.82431. The random forest had 0.09769 greater of an accuracy than the majority class classifier. Pretty good since the logistic regression model just mirrored the majority class classifier."
   ]
  },
  {
   "cell_type": "markdown",
   "metadata": {},
   "source": [
    "## Results"
   ]
  },
  {
   "cell_type": "markdown",
   "metadata": {},
   "source": [
    "Overall, the Random Forest performed the best. Other models mirrored the majority class classifier or only deviated for one observation. The random forest proved to be the correct tool for the job, with a testing accuracy of 0.92216. This kind of accuracy is good for a project that tries to see which models work the best for this problem. In the real world, this accuracy would be bad for trying to predict which businesses should be given loans. Real models for this kind of question would have more variables, more optimization, and more time and people working on it."
   ]
  },
  {
   "cell_type": "code",
   "execution_count": null,
   "metadata": {},
   "outputs": [],
   "source": []
  }
 ],
 "metadata": {
  "kernelspec": {
   "display_name": "Python 3",
   "language": "python",
   "name": "python3"
  },
  "language_info": {
   "codemirror_mode": {
    "name": "ipython",
    "version": 3
   },
   "file_extension": ".py",
   "mimetype": "text/x-python",
   "name": "python",
   "nbconvert_exporter": "python",
   "pygments_lexer": "ipython3",
   "version": "3.8.5"
  }
 },
 "nbformat": 4,
 "nbformat_minor": 4
}
